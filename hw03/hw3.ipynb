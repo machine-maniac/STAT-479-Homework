{
 "cells": [
  {
   "cell_type": "code",
   "execution_count": 1,
   "metadata": {},
   "outputs": [
    {
     "name": "stdout",
     "output_type": "stream",
     "text": [
      "         0   1      2      3       4       5        6        7       8   \\\n",
      "0    842302   1  17.99  10.38  122.80  1001.0  0.11840  0.27760  0.3001   \n",
      "1    842517   1  20.57  17.77  132.90  1326.0  0.08474  0.07864  0.0869   \n",
      "2  84300903   1  19.69  21.25  130.00  1203.0  0.10960  0.15990  0.1974   \n",
      "3  84348301   1  11.42  20.38   77.58   386.1  0.14250  0.28390  0.2414   \n",
      "4  84358402   1  20.29  14.34  135.10  1297.0  0.10030  0.13280  0.1980   \n",
      "\n",
      "        9   ...     22     23      24      25      26      27      28      29  \\\n",
      "0  0.14710  ...  25.38  17.33  184.60  2019.0  0.1622  0.6656  0.7119  0.2654   \n",
      "1  0.07017  ...  24.99  23.41  158.80  1956.0  0.1238  0.1866  0.2416  0.1860   \n",
      "2  0.12790  ...  23.57  25.53  152.50  1709.0  0.1444  0.4245  0.4504  0.2430   \n",
      "3  0.10520  ...  14.91  26.50   98.87   567.7  0.2098  0.8663  0.6869  0.2575   \n",
      "4  0.10430  ...  22.54  16.67  152.20  1575.0  0.1374  0.2050  0.4000  0.1625   \n",
      "\n",
      "       30       31  \n",
      "0  0.4601  0.11890  \n",
      "1  0.2750  0.08902  \n",
      "2  0.3613  0.08758  \n",
      "3  0.6638  0.17300  \n",
      "4  0.2364  0.07678  \n",
      "\n",
      "[5 rows x 32 columns]\n"
     ]
    }
   ],
   "source": [
    "# 1.1 1. Hyperparameter Tuning and Model Selection\n",
    "# 1.1.1 1.1 [10 pts] Using Grid Search for Hyperparameter Tuning\n",
    "\n",
    "# In this exercise, you will be working with the Breast Cancer Wisconsin dataset, which contains 569\n",
    "# samples of malignant and benign tumor cells.\n",
    "# The first two columns in the dataset store the unique ID numbers of the samples and the corresponding diagnoses (M = malignant, B = benign), respectively. Columns 3-32 contain 30 real-valued\n",
    "# features that have been computed from digitized images of the cell nuclei, which can be used to\n",
    "# build a model to predict whether a tumor is benign or malignant. The Breast Cancer Wisconsin\n",
    "# dataset has been deposited in the UCI Machine Learning Repository, and more detailed information\n",
    "# about this dataset can be found at https://archive.ics.uci.edu/ml/datasets/Breast+Cancer+Wi\n",
    "# sconsin+(Diagnostic).\n",
    "# The next cell loads the datasets and converts the class label M (malignant) to a integer 1 and the\n",
    "# label B (benign) to class label 0.\n",
    "\n",
    "# EXECUTE BUT DO NOT MODIFY THIS CELL\n",
    "import pandas as pd\n",
    "df = pd.read_csv('wdbc.data', header=None)\n",
    "# convert class label \"M\"->1 and label \"B\"->0\n",
    "df[1] = df[1].apply(lambda x: 1 if x == 'M' else 0)\n",
    "print (df.head())"
   ]
  },
  {
   "cell_type": "code",
   "execution_count": 2,
   "metadata": {},
   "outputs": [],
   "source": [
    "# EXECUTE BUT DO NOT MODIFY THIS CELL\n",
    "from sklearn.model_selection import train_test_split\n",
    "y = df[1].values\n",
    "X = df.loc[:, 2:].values\n",
    "X_train, X_test, y_train, y_test = train_test_split(X, \n",
    "                                                    y, \n",
    "                                                    test_size=0.3, \n",
    "                                                    shuffle=True, \n",
    "                                                    random_state=0,stratify=y)\n",
    "\n",
    "# Now, your task is to use GridSearchCV from scikit-learn to find the best parameter for n_neighbors\n",
    "# of a KNearestNeighborClassifier\n",
    "# As hyperparameter values, you only need to consider the number of n_neighbors within the range\n",
    "# 1-16 (including 16)"
   ]
  },
  {
   "cell_type": "code",
   "execution_count": 3,
   "metadata": {},
   "outputs": [
    {
     "name": "stdout",
     "output_type": "stream",
     "text": [
      "Best Accuracy: 97.24%\n"
     ]
    }
   ],
   "source": [
    "# MODIFY THIS CELL\n",
    "from sklearn.pipeline import make_pipeline\n",
    "from sklearn.preprocessing import StandardScaler\n",
    "from sklearn.neighbors import KNeighborsClassifier\n",
    "from sklearn.model_selection import GridSearchCV\n",
    "\n",
    "pipe = make_pipeline(StandardScaler(),\n",
    "\t\t\t\t\t KNeighborsClassifier())\n",
    "\n",
    "param_grid = [{'kneighborsclassifier__n_neighbors': list(range(1, 17))}]\n",
    "\n",
    "gs = GridSearchCV(pipe,\n",
    "\t\t\t\t param_grid,\n",
    "\t\t\t\t iid=False,\n",
    "\t\t\t\t n_jobs=-1,\n",
    "\t\t\t\t refit=True,\n",
    "\t\t\t\t scoring='accuracy',\n",
    "\t\t\t\t cv=10)\n",
    "\n",
    "gs.fit(X_train, y_train)\n",
    "print('Best Accuracy: %.2f%%' % (gs.best_score_*100))"
   ]
  },
  {
   "cell_type": "code",
   "execution_count": 4,
   "metadata": {},
   "outputs": [
    {
     "name": "stdout",
     "output_type": "stream",
     "text": [
      "Best Params: {'kneighborsclassifier__n_neighbors': 5}\n",
      "Test Accuracy: 94.15%\n"
     ]
    }
   ],
   "source": [
    "# Next, print the best parameters obtained from the GridSearchCV run and compute the accuracy a\n",
    "# KNearestNeighborClassifier would achieve with these settings on the test set (X_test, y_test).\n",
    "print('Best Params: %s' % gs.best_params_)\n",
    "\n",
    "from sklearn.metrics import accuracy_score\n",
    "print('Test Accuracy: %.2f%%' % (100 * accuracy_score(gs.predict(X_test), y_test)))"
   ]
  },
  {
   "cell_type": "code",
   "execution_count": 5,
   "metadata": {},
   "outputs": [
    {
     "name": "stdout",
     "output_type": "stream",
     "text": [
      "Accuracy: 95.03%\n"
     ]
    }
   ],
   "source": [
    "# 1.1.2 1.2 [10 pts] Estimate the Generalization Performance using the ‘.632+’ Bootstrap\n",
    "import sys\n",
    "sys.path.append(r'c:\\users\\USERNAME\\appdata\\local\\programs\\python\\python38-32\\lib\\site-packages')\n",
    "\n",
    "import mlxtend\n",
    "from mlxtend.evaluate import bootstrap_point632_score\n",
    "from sklearn.tree import DecisionTreeClassifier\n",
    "import numpy as np\n",
    "scores = bootstrap_point632_score(DecisionTreeClassifier(random_state=1), X, y, n_splits=200, method = '.632+')\n",
    "acc = np.mean(scores)\n",
    "print('Accuracy: %.2f%%' % (100*acc))\n"
   ]
  },
  {
   "cell_type": "code",
   "execution_count": 6,
   "metadata": {},
   "outputs": [
    {
     "name": "stdout",
     "output_type": "stream",
     "text": [
      "95% Confidence interval: [92.69, 97.62]\n"
     ]
    }
   ],
   "source": [
    "# MODIFY THIS CELL\n",
    "lower = np.percentile(scores, 2.5)\n",
    "upper = np.percentile(scores, 97.5)\n",
    "print('95%% Confidence interval: [%.2f, %.2f]' % (100*lower, 100*upper))"
   ]
  },
  {
   "cell_type": "code",
   "execution_count": 7,
   "metadata": {},
   "outputs": [],
   "source": [
    "# 1.2.1 2.1 [10 pts] Contructing a Binary Confusion Matrix\n",
    "%matplotlib inline"
   ]
  },
  {
   "cell_type": "code",
   "execution_count": 8,
   "metadata": {},
   "outputs": [
    {
     "data": {
      "image/png": "[encoded data removed]",
      "text/plain": [
       "<Figure size 432x288 with 1 Axes>"
      ]
     },
     "metadata": {
      "needs_background": "light"
     },
     "output_type": "display_data"
    }
   ],
   "source": [
    "import numpy as np\n",
    "import helper\n",
    "from helper import plot_confusion_matrix\n",
    "import matplotlib.pyplot as plt\n",
    "example_cm = np.array([[101, 21], [41, 121]])\n",
    "plot_confusion_matrix(example_cm)\n",
    "plt.show()"
   ]
  },
  {
   "cell_type": "code",
   "execution_count": 9,
   "metadata": {},
   "outputs": [],
   "source": [
    "y_true = np.array([1, 0, 1, 1, 1, 0, 1, 0, 1, 0, 1, 1, 0, 1, 0, 1, 1, 1, 1, 0])\n",
    "y_predicted = np.array([1, 0, 0, 1, 1, 0, 1, 0, 1, 0, 1, 1, 0, 1, 0, 0, 1, 0, 0, 0])\n",
    "\n",
    "def confusion_matrix_binary(y_true, y_predicted):\n",
    "\ttp, fn, fp, tn = 0, 0, 0, 0\n",
    "\tfor i, j in zip(y_true, y_predicted):\n",
    "\t\tif i == j:\n",
    "\t\t\tif i == 0:\n",
    "\t\t\t\ttn += 1\n",
    "\t\t\telse:\n",
    "\t\t\t\ttp += 1\n",
    "\t\telse:\n",
    "\t\t\tif i == 0:\n",
    "\t\t\t\tfn += 1\n",
    "\t\t\telse:\n",
    "\t\t\t\tfp += 1\n",
    "\n",
    "\tconf_matrix = np.zeros(4).reshape(2, 2).astype(int)\n",
    "\tconf_matrix[0, 0] = tn\n",
    "\tconf_matrix[0, 1] = fn\n",
    "\tconf_matrix[1, 0] = fp\n",
    "\tconf_matrix[1, 1] = tp\n",
    "\t\n",
    "\treturn conf_matrix\n",
    "\n",
    "result_matrix = confusion_matrix_binary(y_true, y_predicted)\n"
   ]
  },
  {
   "cell_type": "code",
   "execution_count": 10,
   "metadata": {},
   "outputs": [
    {
     "name": "stdout",
     "output_type": "stream",
     "text": [
      "Confusion matrix array:\n",
      " [[7 0]\n",
      " [4 9]]\n"
     ]
    }
   ],
   "source": [
    "print('Confusion matrix array:\\n', result_matrix)"
   ]
  },
  {
   "cell_type": "code",
   "execution_count": 11,
   "metadata": {},
   "outputs": [
    {
     "data": {
      "image/png": "[encoded data removed]",
      "text/plain": [
       "<Figure size 432x288 with 1 Axes>"
      ]
     },
     "metadata": {
      "needs_background": "light"
     },
     "output_type": "display_data"
    }
   ],
   "source": [
    "plot_confusion_matrix(result_matrix)\n",
    "plt.show()"
   ]
  },
  {
   "cell_type": "code",
   "execution_count": 12,
   "metadata": {},
   "outputs": [
    {
     "name": "stdout",
     "output_type": "stream",
     "text": [
      "[[2 2 0 0 0]\n",
      " [1 6 1 1 0]\n",
      " [1 0 4 0 0]\n",
      " [0 0 0 1 0]\n",
      " [0 0 0 0 1]]\n"
     ]
    }
   ],
   "source": [
    "# 1.2.2 2.2 [10 pts] Constructing a Multiclass Confusion Matrix\n",
    "import numpy as np\n",
    "def confusion_matrix_multiclass(y_true, y_predicted):\n",
    "\tn = 5\n",
    "\tmatrix = np.zeros(n*n).reshape(n, n).astype(int)\n",
    "\tfor i,j in zip(y_true, y_predicted):\n",
    "\t\tif i == j:\n",
    "\t\t\tmatrix[i, i] += 1\n",
    "\t\telse:\n",
    "\t\t\tmatrix[i, j] += 1\n",
    "\n",
    "\treturn matrix\n",
    "\n",
    "y_true = [1, 1, 1, 1, 0, 2, 0, 3, 4, 2, 1, 2, 2, 1, 2, 1, 0, 1, 1, 0]\n",
    "y_predicted = [1, 0, 1, 1, 0, 2, 1, 3, 4, 2, 2, 0, 2, 1, 2, 1, 0, 3, 1, 1]\n",
    "result_matrix = confusion_matrix_multiclass(y_true, y_predicted)\n",
    "print (result_matrix)"
   ]
  },
  {
   "cell_type": "code",
   "execution_count": 13,
   "metadata": {},
   "outputs": [
    {
     "data": {
      "image/png": "[encoded data removed]",
      "text/plain": [
       "<Figure size 432x288 with 1 Axes>"
      ]
     },
     "metadata": {
      "needs_background": "light"
     },
     "output_type": "display_data"
    }
   ],
   "source": [
    "from helper import plot_confusion_matrix\n",
    "plot_confusion_matrix(result_matrix)\n",
    "plt.show()"
   ]
  },
  {
   "cell_type": "code",
   "execution_count": 14,
   "metadata": {},
   "outputs": [
    {
     "name": "stdout",
     "output_type": "stream",
     "text": [
      "Positive Label 0:\n",
      " [[ 2  2]\n",
      " [ 2 14]]\n"
     ]
    },
    {
     "data": {
      "image/png": "[encoded data removed]",
      "text/plain": [
       "<Figure size 432x288 with 1 Axes>"
      ]
     },
     "metadata": {
      "needs_background": "light"
     },
     "output_type": "display_data"
    }
   ],
   "source": [
    "# 1.2.3 2.3 [10 pts] Binary Confusion Matrices for Multiclass Problems\n",
    "def binary_cm_from_multiclass(y_true, y_predicted, positive_label):\n",
    "\ty_true_ary = np.array(y_true)\n",
    "\ty_predicted_ary = np.array(y_predicted)\n",
    "\ty_true_mod = np.where(y_true_ary<=0, y_true_ary, 1)\n",
    "\ty_predicted_mod = np.where(y_predicted_ary<=0, y_predicted_ary, 1)\n",
    "\tcm = confusion_matrix_binary(y_true_mod, y_predicted_mod)\n",
    "\treturn cm\n",
    "\n",
    "y_true = [1, 1, 1, 1, 0, 2, 0, 3, 4, 2, 1, 2, 2, 1, 2, 1, 0, 1, 1, 0]\n",
    "y_predicted = [1, 0, 1, 1, 0, 2, 1, 3, 4, 2, 2, 0, 2, 1, 2, 1, 0, 3, 1, 1]\n",
    "mat_pos0 = binary_cm_from_multiclass(y_true, y_predicted, positive_label=0)\n",
    "print('Positive Label 0:\\n', mat_pos0)\n",
    "fig, ax = plot_confusion_matrix(mat_pos0)\n",
    "ax.set_xticklabels(['', 'Pos Class (0)', 'Neg Class (Rest)'])\n",
    "ax.set_yticklabels(['', 'Pos Class (0)', 'Neg Class (Rest)']);\n",
    "plt.show()"
   ]
  },
  {
   "cell_type": "code",
   "execution_count": 52,
   "metadata": {},
   "outputs": [
    {
     "name": "stdout",
     "output_type": "stream",
     "text": [
      "0.6071\n"
     ]
    }
   ],
   "source": [
    "# 1.3 3. [10 pts] Balanced Accuracy\n",
    "import numpy as np\n",
    "from sklearn.metrics import balanced_accuracy_score\n",
    "def balanced_accuracy(y_true, y_predicted):\n",
    "    y_true_ary = np.array(y_true)\n",
    "    y_predicted_ary = np.array(y_predicted)\n",
    "    unique_labels = np.unique(np.concatenate((y_true_ary, y_predicted_ary)))\n",
    "    class_accuracies = []\n",
    "    for l in unique_labels:\n",
    "        acc = confusion_matrix_binary(y_true, y_predicted)\n",
    "        acc =  round(0.85*(acc[0,0]/(acc[0,0]+acc[0,1]) + acc[1,1]/(acc[1,1]+acc[1,0])), 4)\n",
    "        class_accuracies.append(acc)\n",
    "    return np.mean(class_accuracies)\n",
    "\n",
    "y_targ = [1, 1, 2, 1, 1, 2, 0, 3]\n",
    "y_pred = [0, 0, 2, 1, 1, 2, 1, 3]\n",
    "print (balanced_accuracy(y_targ, y_pred))\n"
   ]
  },
  {
   "cell_type": "code",
   "execution_count": 16,
   "metadata": {},
   "outputs": [
    {
     "name": "stdout",
     "output_type": "stream",
     "text": [
      "[[0.44001556 0.55998444]\n",
      " [0.69026364 0.30973636]\n",
      " [0.31814182 0.68185818]\n",
      " [0.56957726 0.43042274]\n",
      " [0.86339788 0.13660212]\n",
      " [0.56957726 0.43042274]\n",
      " [0.86339788 0.13660212]\n",
      " [0.44001556 0.55998444]\n",
      " [0.08899234 0.91100766]\n",
      " [0.50487831 0.49512169]\n",
      " [0.74306586 0.25693414]\n",
      " [0.89133165 0.10866835]\n",
      " [0.74306586 0.25693414]\n",
      " [0.44001556 0.55998444]\n",
      " [0.74306586 0.25693414]\n",
      " [0.44001556 0.55998444]\n",
      " [0.08899234 0.91100766]\n",
      " [0.69026364 0.30973636]\n",
      " [0.31814182 0.68185818]\n",
      " [0.74306586 0.25693414]\n",
      " [0.50487831 0.49512169]\n",
      " [0.56957726 0.43042274]\n",
      " [0.44001556 0.55998444]\n",
      " [0.69026364 0.30973636]\n",
      " [0.50487831 0.49512169]\n",
      " [0.05482486 0.94517514]\n",
      " [0.82965589 0.17034411]\n",
      " [0.86339788 0.13660212]\n",
      " [0.17593095 0.82406905]\n",
      " [0.50487831 0.49512169]\n",
      " [0.3771385  0.6228615 ]\n",
      " [0.31814182 0.68185818]\n",
      " [0.74306586 0.25693414]\n",
      " [0.50487831 0.49512169]\n",
      " [0.17593095 0.82406905]\n",
      " [0.44001556 0.55998444]\n",
      " [0.3771385  0.6228615 ]\n",
      " [0.6319844  0.3680156 ]\n",
      " [0.44001556 0.55998444]\n",
      " [0.3771385  0.6228615 ]\n",
      " [0.56957726 0.43042274]\n",
      " [0.21694654 0.78305346]\n",
      " [0.11250669 0.88749331]\n",
      " [0.69026364 0.30973636]\n",
      " [0.6319844  0.3680156 ]\n",
      " [0.14127074 0.85872926]\n",
      " [0.69026364 0.30973636]\n",
      " [0.26445566 0.73554434]\n",
      " [0.44001556 0.55998444]\n",
      " [0.31814182 0.68185818]]\n"
     ]
    }
   ],
   "source": [
    "# 1.4 4. Receiver Operator Characteristics (ROC)\n",
    "# 1.4.1 4.1 [10 pts] Plotting a ROC curve\n",
    "# EXECUTE BUT DO NOT MODIFY THIS CELL\n",
    "\n",
    "\n",
    "from mlxtend.data import iris_data\n",
    "from sklearn.model_selection import train_test_split\n",
    "from sklearn.linear_model import LogisticRegression\n",
    "\n",
    "\n",
    "X, y = iris_data()\n",
    "X, y = X[:100, [1]], y[:100]\n",
    "X_train, X_test, y_train, y_test = \\\n",
    "    train_test_split(X, y, test_size=0.5, shuffle=True, random_state=0, stratify=y)\n",
    "\n",
    "model = LogisticRegression(solver='lbfgs', random_state=123)\n",
    "model.fit(X_train, y_train)\n",
    "\n",
    "y_probabilities = model.predict_proba(X_test)\n",
    "\n",
    "print(y_probabilities)"
   ]
  },
  {
   "cell_type": "code",
   "execution_count": 17,
   "metadata": {},
   "outputs": [],
   "source": [
    "import matplotlib.pyplot as plt\n",
    "import numpy as np\n",
    "\n",
    "\n",
    "def plot_roc_curve(y_true, y_score, pos_label=1, num_thresholds=100):\n",
    "\n",
    "    y_true_ary = np.array(y_true)\n",
    "    y_score_ary = np.array(y_score)\n",
    "    x_axis_values = []\n",
    "    y_axis_values = []\n",
    "    thresholds = np.linspace(0., 1., num_thresholds)\n",
    "    num_positives = np.sum(y_true == pos_label)\n",
    "    num_negatives = y_true.shape[0] - np.sum(y_true == pos_label)\n",
    "\n",
    "    for i, thr in enumerate(thresholds):\n",
    "        \n",
    "        binarized_scores = np.where(y_score >= thr, pos_label, int(not pos_label))\n",
    "        \n",
    "        positive_predictions = np.where(binarized_scores == pos_label)\n",
    "        num_true_positives = (y_true[positive_predictions] == pos_label).sum()\n",
    "        num_false_positives = (y_true[positive_predictions] != pos_label).sum()\n",
    "        \n",
    "        x_axis_values.append(num_false_positives / (num_negatives*1.0))\n",
    "        y_axis_values.append(num_true_positives / (num_positives*1.0))\n",
    "\n",
    "    plt.step(x_axis_values, y_axis_values, where='post')\n",
    "    \n",
    "    plt.xlim([0., 1.01])\n",
    "    plt.ylim([0., 1.01])\n",
    "    plt.ylabel('True Positive Rate')\n",
    "    plt.xlabel('False Positive Rate')\n",
    "    \n",
    "    return None\n"
   ]
  },
  {
   "cell_type": "code",
   "execution_count": 18,
   "metadata": {},
   "outputs": [
    {
     "data": {
      "image/png": "[encoded data removed]",
      "text/plain": [
       "<Figure size 432x288 with 1 Axes>"
      ]
     },
     "metadata": {
      "needs_background": "light"
     },
     "output_type": "display_data"
    }
   ],
   "source": [
    "plot_roc_curve(y_test, y_probabilities[:, 1], pos_label=1)\n",
    "plt.show()\n"
   ]
  },
  {
   "cell_type": "code",
   "execution_count": 19,
   "metadata": {},
   "outputs": [
    {
     "data": {
      "image/png": "[encoded data removed]",
      "text/plain": [
       "<Figure size 432x288 with 1 Axes>"
      ]
     },
     "metadata": {
      "needs_background": "light"
     },
     "output_type": "display_data"
    }
   ],
   "source": [
    "plot_roc_curve(y_test, y_probabilities[:, 0], pos_label=0)\n",
    "plt.show()"
   ]
  },
  {
   "cell_type": "code",
   "execution_count": 20,
   "metadata": {},
   "outputs": [],
   "source": [
    "# 1.4.2 4.2 [10 pts] Calculating the ROC AUC\n",
    "from sklearn.metrics import roc_auc_score\n",
    "def plot_roc_curve_plus_auc(y_true, y_score, pos_label=1, num_thresholds=100):\n",
    "    y_true_ary = np.array(y_true)\n",
    "    y_score_ary = np.array(y_score)\n",
    "    x_axis_values = []\n",
    "    y_axis_values = []\n",
    "    thresholds = np.linspace(0., 1., num_thresholds)\n",
    "    num_positives = np.sum(y_true == pos_label)\n",
    "    num_negatives = y_true.shape[0] - np.sum(y_true == pos_label)\n",
    "\n",
    "    for i, thr in enumerate(thresholds):\n",
    "        \n",
    "        binarized_scores = np.where(y_score >= thr, pos_label, int(not pos_label))\n",
    "        \n",
    "        positive_predictions = np.where(binarized_scores == pos_label)\n",
    "        num_true_positives = (y_true[positive_predictions] == pos_label).sum()\n",
    "        num_false_positives = (y_true[positive_predictions] != pos_label).sum()\n",
    "        \n",
    "        x_axis_values.append(num_false_positives / (num_negatives*1.0))\n",
    "        y_axis_values.append(num_true_positives / (num_positives*1.0))\n",
    "\n",
    "    plt.step(x_axis_values, y_axis_values, where='post')\n",
    "    \n",
    "    plt.xlim([0., 1.01])\n",
    "    plt.ylim([0., 1.01])\n",
    "    plt.ylabel('True Positive Rate')\n",
    "    plt.xlabel('False Positive Rate')\n",
    "    \n",
    "    return roc_auc_score(y_true, y_score_ary)"
   ]
  },
  {
   "cell_type": "code",
   "execution_count": 21,
   "metadata": {},
   "outputs": [
    {
     "name": "stdout",
     "output_type": "stream",
     "text": [
      "ROC AUC: 0.1032\n"
     ]
    },
    {
     "data": {
      "image/png": "[encoded data removed]",
      "text/plain": [
       "<Figure size 432x288 with 1 Axes>"
      ]
     },
     "metadata": {
      "needs_background": "light"
     },
     "output_type": "display_data"
    }
   ],
   "source": [
    "auc = plot_roc_curve_plus_auc(y_test, y_probabilities[:, 0], pos_label=0)\n",
    "print('ROC AUC: %.4f' % auc)"
   ]
  },
  {
   "cell_type": "code",
   "execution_count": 22,
   "metadata": {},
   "outputs": [
    {
     "name": "stdout",
     "output_type": "stream",
     "text": [
      "ROC AUC: 0.8968\n"
     ]
    },
    {
     "data": {
      "image/png": "[encoded data removed]",
      "text/plain": [
       "<Figure size 432x288 with 1 Axes>"
      ]
     },
     "metadata": {
      "needs_background": "light"
     },
     "output_type": "display_data"
    }
   ],
   "source": [
    "auc = plot_roc_curve_plus_auc(y_test, y_probabilities[:, 1], pos_label=1)\n",
    "print('ROC AUC: %.4f' % auc)"
   ]
  },
  {
   "cell_type": "code",
   "execution_count": 23,
   "metadata": {},
   "outputs": [
    {
     "data": {
      "text/html": [
       "<div>\n",
       "<style scoped>\n",
       "    .dataframe tbody tr th:only-of-type {\n",
       "        vertical-align: middle;\n",
       "    }\n",
       "\n",
       "    .dataframe tbody tr th {\n",
       "        vertical-align: top;\n",
       "    }\n",
       "\n",
       "    .dataframe thead th {\n",
       "        text-align: right;\n",
       "    }\n",
       "</style>\n",
       "<table border=\"1\" class=\"dataframe\">\n",
       "  <thead>\n",
       "    <tr style=\"text-align: right;\">\n",
       "      <th></th>\n",
       "      <th>Class label</th>\n",
       "      <th>Alcohol</th>\n",
       "      <th>Malic acid</th>\n",
       "      <th>Ash</th>\n",
       "      <th>Alcalinity of ash</th>\n",
       "      <th>Magnesium</th>\n",
       "      <th>Total phenols</th>\n",
       "      <th>Flavanoids</th>\n",
       "      <th>Nonflavanoid phenols</th>\n",
       "      <th>Proanthocyanins</th>\n",
       "      <th>Color intensity</th>\n",
       "      <th>Hue</th>\n",
       "      <th>OD280/OD315 of diluted wines</th>\n",
       "      <th>Proline</th>\n",
       "    </tr>\n",
       "  </thead>\n",
       "  <tbody>\n",
       "    <tr>\n",
       "      <td>0</td>\n",
       "      <td>1</td>\n",
       "      <td>14.23</td>\n",
       "      <td>1.71</td>\n",
       "      <td>2.43</td>\n",
       "      <td>15.6</td>\n",
       "      <td>127</td>\n",
       "      <td>2.80</td>\n",
       "      <td>3.06</td>\n",
       "      <td>0.28</td>\n",
       "      <td>2.29</td>\n",
       "      <td>5.64</td>\n",
       "      <td>1.04</td>\n",
       "      <td>3.92</td>\n",
       "      <td>1065</td>\n",
       "    </tr>\n",
       "    <tr>\n",
       "      <td>1</td>\n",
       "      <td>1</td>\n",
       "      <td>13.20</td>\n",
       "      <td>1.78</td>\n",
       "      <td>2.14</td>\n",
       "      <td>11.2</td>\n",
       "      <td>100</td>\n",
       "      <td>2.65</td>\n",
       "      <td>2.76</td>\n",
       "      <td>0.26</td>\n",
       "      <td>1.28</td>\n",
       "      <td>4.38</td>\n",
       "      <td>1.05</td>\n",
       "      <td>3.40</td>\n",
       "      <td>1050</td>\n",
       "    </tr>\n",
       "    <tr>\n",
       "      <td>2</td>\n",
       "      <td>1</td>\n",
       "      <td>13.16</td>\n",
       "      <td>2.36</td>\n",
       "      <td>2.67</td>\n",
       "      <td>18.6</td>\n",
       "      <td>101</td>\n",
       "      <td>2.80</td>\n",
       "      <td>3.24</td>\n",
       "      <td>0.30</td>\n",
       "      <td>2.81</td>\n",
       "      <td>5.68</td>\n",
       "      <td>1.03</td>\n",
       "      <td>3.17</td>\n",
       "      <td>1185</td>\n",
       "    </tr>\n",
       "    <tr>\n",
       "      <td>3</td>\n",
       "      <td>1</td>\n",
       "      <td>14.37</td>\n",
       "      <td>1.95</td>\n",
       "      <td>2.50</td>\n",
       "      <td>16.8</td>\n",
       "      <td>113</td>\n",
       "      <td>3.85</td>\n",
       "      <td>3.49</td>\n",
       "      <td>0.24</td>\n",
       "      <td>2.18</td>\n",
       "      <td>7.80</td>\n",
       "      <td>0.86</td>\n",
       "      <td>3.45</td>\n",
       "      <td>1480</td>\n",
       "    </tr>\n",
       "    <tr>\n",
       "      <td>4</td>\n",
       "      <td>1</td>\n",
       "      <td>13.24</td>\n",
       "      <td>2.59</td>\n",
       "      <td>2.87</td>\n",
       "      <td>21.0</td>\n",
       "      <td>118</td>\n",
       "      <td>2.80</td>\n",
       "      <td>2.69</td>\n",
       "      <td>0.39</td>\n",
       "      <td>1.82</td>\n",
       "      <td>4.32</td>\n",
       "      <td>1.04</td>\n",
       "      <td>2.93</td>\n",
       "      <td>735</td>\n",
       "    </tr>\n",
       "  </tbody>\n",
       "</table>\n",
       "</div>"
      ],
      "text/plain": [
       "   Class label  Alcohol  Malic acid   Ash  Alcalinity of ash  Magnesium  \\\n",
       "0            1    14.23        1.71  2.43               15.6        127   \n",
       "1            1    13.20        1.78  2.14               11.2        100   \n",
       "2            1    13.16        2.36  2.67               18.6        101   \n",
       "3            1    14.37        1.95  2.50               16.8        113   \n",
       "4            1    13.24        2.59  2.87               21.0        118   \n",
       "\n",
       "   Total phenols  Flavanoids  Nonflavanoid phenols  Proanthocyanins  \\\n",
       "0           2.80        3.06                  0.28             2.29   \n",
       "1           2.65        2.76                  0.26             1.28   \n",
       "2           2.80        3.24                  0.30             2.81   \n",
       "3           3.85        3.49                  0.24             2.18   \n",
       "4           2.80        2.69                  0.39             1.82   \n",
       "\n",
       "   Color intensity   Hue  OD280/OD315 of diluted wines  Proline  \n",
       "0             5.64  1.04                          3.92     1065  \n",
       "1             4.38  1.05                          3.40     1050  \n",
       "2             5.68  1.03                          3.17     1185  \n",
       "3             7.80  0.86                          3.45     1480  \n",
       "4             4.32  1.04                          2.93      735  "
      ]
     },
     "execution_count": 23,
     "metadata": {},
     "output_type": "execute_result"
    }
   ],
   "source": [
    "# 1.5 5. Feature Importance\n",
    "# 1.5.1 [10 pts] 5.1 Drop-Column Feature Importance\n",
    "\n",
    "# EXECUTE BUT DO NOT MODIFY THIS CELL\n",
    "import pandas as pd\n",
    "df_wine = pd.read_csv('wine.data', header=None)\n",
    "df_wine.columns = ['Class label', 'Alcohol', 'Malic acid', 'Ash',\n",
    "                    'Alcalinity of ash', 'Magnesium', 'Total phenols',\n",
    "                    'Flavanoids', 'Nonflavanoid phenols', 'Proanthocyanins',\n",
    "                    'Color intensity', 'Hue',\n",
    "                    'OD280/OD315 of diluted wines', 'Proline']\n",
    "df_wine.head()"
   ]
  },
  {
   "cell_type": "code",
   "execution_count": 24,
   "metadata": {},
   "outputs": [],
   "source": [
    "from sklearn.model_selection import train_test_split\n",
    "X, y = df_wine.iloc[:, 1:].values, df_wine.iloc[:, 0].values\n",
    "X_train, X_test, y_train, y_test = train_test_split(X, y, test_size=0.3, stratify=y, random_state=0)"
   ]
  },
  {
   "cell_type": "code",
   "execution_count": 25,
   "metadata": {},
   "outputs": [],
   "source": [
    "import numpy as np\n",
    "from sklearn.model_selection import cross_val_score\n",
    "def feature_importance_dropcolumn(estimator, X, y, cv=5):\n",
    "    base_accuracy = np.mean(cross_val_score(estimator, X, y, cv=cv)*1.0)\n",
    "    column_indices = np.arange(X.shape[1]).astype(int)\n",
    "    drop_accuracies = np.zeros(column_indices.shape[0])\n",
    "    for idx in column_indices:\n",
    "        mask = np.ones(column_indices.shape[0]).astype(bool)\n",
    "        mask[idx] = False\n",
    "        drop_accuracy =  np.absolute((base_accuracy*1.0) - np.mean(cross_val_score(estimator, \n",
    "                                                                             X[:,mask], \n",
    "                                                                             y, \n",
    "                                                                             cv=cv)))\n",
    "        drop_accuracies[idx] = drop_accuracy\n",
    "    return drop_accuracies"
   ]
  },
  {
   "cell_type": "code",
   "execution_count": 26,
   "metadata": {},
   "outputs": [
    {
     "data": {
      "text/plain": [
       "array([0.009     , 0.00033333, 0.008     , 0.01633333, 0.00766667,\n",
       "       0.00802564, 0.01569231, 0.00833333, 0.00030769, 0.008     ,\n",
       "       0.00030769, 0.00769231, 0.02402564])"
      ]
     },
     "execution_count": 26,
     "metadata": {},
     "output_type": "execute_result"
    }
   ],
   "source": [
    "from sklearn.pipeline import make_pipeline\n",
    "from sklearn.preprocessing import StandardScaler\n",
    "from sklearn.neighbors import KNeighborsClassifier\n",
    "pipe = make_pipeline(StandardScaler(), KNeighborsClassifier(n_neighbors = 5))\n",
    "feature_importance_dropcolumn(pipe, X=X_train, y=y_train, cv=5)"
   ]
  },
  {
   "cell_type": "code",
   "execution_count": 27,
   "metadata": {},
   "outputs": [
    {
     "name": "stdout",
     "output_type": "stream",
     "text": [
      "Drop Importance from RF: [0.00833333 0.         0.         0.008      0.         0.008\n",
      " 0.008      0.         0.008      0.00802564 0.008      0.008\n",
      " 0.00766667]\n"
     ]
    }
   ],
   "source": [
    "# 1.5.2 [10 pts] 5.2 Random Forest Feature Importance\n",
    "from sklearn.ensemble import RandomForestClassifier\n",
    "forest = RandomForestClassifier(n_estimators=200, random_state=0)\n",
    "drop_importances = feature_importance_dropcolumn(forest,\n",
    "                                                X=X_train,\n",
    "                                                y=y_train,\n",
    "                                                cv=5)\n",
    "\n",
    "print('Drop Importance from RF:', drop_importances)"
   ]
  },
  {
   "cell_type": "code",
   "execution_count": 28,
   "metadata": {},
   "outputs": [
    {
     "name": "stdout",
     "output_type": "stream",
     "text": [
      "Highest ranking/most important feature: 12\n"
     ]
    }
   ],
   "source": [
    "print ('Highest ranking/most important feature:', np.argsort(drop_importances).max())"
   ]
  },
  {
   "cell_type": "code",
   "execution_count": 29,
   "metadata": {},
   "outputs": [
    {
     "data": {
      "text/plain": [
       "array([ 1,  2,  4,  7, 12,  3,  5,  6,  8, 10, 11,  9,  0], dtype=int64)"
      ]
     },
     "execution_count": 29,
     "metadata": {},
     "output_type": "execute_result"
    }
   ],
   "source": [
    "np.argsort(drop_importances)"
   ]
  },
  {
   "cell_type": "code",
   "execution_count": 30,
   "metadata": {},
   "outputs": [],
   "source": [
    "# Which are the 3 most important features? You can either write the feature indices below that\n",
    "# correspond to the most important features or write out the full column names (you can see the\n",
    "# The three most important columns are 12, 11 and 10."
   ]
  },
  {
   "cell_type": "code",
   "execution_count": 31,
   "metadata": {},
   "outputs": [
    {
     "name": "stdout",
     "output_type": "stream",
     "text": [
      "Random Forest Feature Importance:\n",
      " [0.01602564 0.         0.00864103 0.00030769 0.00064103 0.01664103\n",
      " 0.00864103 0.00833333 0.01633333 0.00030769 0.00833333 0.01633333\n",
      " 0.016     ]\n"
     ]
    }
   ],
   "source": [
    "forest = RandomForestClassifier(n_estimators=100, random_state=0)\n",
    "forest.fit(X_train, y_train)\n",
    "print('Random Forest Feature Importance:\\n', feature_importance_dropcolumn(forest,\n",
    "                                                X=X_train,\n",
    "                                                y=y_train,\n",
    "                                                cv=5))"
   ]
  },
  {
   "cell_type": "code",
   "execution_count": 32,
   "metadata": {},
   "outputs": [
    {
     "data": {
      "text/plain": [
       "array([ 1,  3,  9,  4,  7, 10,  2,  6, 12,  0,  8, 11,  5], dtype=int64)"
      ]
     },
     "execution_count": 32,
     "metadata": {},
     "output_type": "execute_result"
    }
   ],
   "source": [
    "np.argsort(feature_importance_dropcolumn(forest,\n",
    "                                         X=X_train,\n",
    "                                         y=y_train,\n",
    "                                         cv=5))"
   ]
  },
  {
   "cell_type": "code",
   "execution_count": 33,
   "metadata": {},
   "outputs": [],
   "source": [
    "# Which are the 3 most important features now? You can either write the feature indices below that\n",
    "# correspond to the most important features or write out the full column names (you can see the\n",
    "# column names in the pandas DataFrame in 5.1).\n",
    "# The most important features are columns 1,  3 and 9. "
   ]
  },
  {
   "cell_type": "code",
   "execution_count": 34,
   "metadata": {},
   "outputs": [
    {
     "data": {
      "text/plain": [
       "array([0.03703704, 0.        , 0.        , 0.        , 0.        ,\n",
       "       0.        , 0.01851852, 0.        , 0.        , 0.14814815,\n",
       "       0.        , 0.01851852, 0.05555556])"
      ]
     },
     "execution_count": 34,
     "metadata": {},
     "output_type": "execute_result"
    }
   ],
   "source": [
    "# Finally, use the feature_importance_permutation function from mlxtend\n",
    "# (http://rasbt.github.io/mlxtend/user_guide/evaluate/feature_importance_permutation/) to\n",
    "# compute the most important features. Inside the feature_importance_permutation function:\n",
    "# • use a random seed of 0\n",
    "# • use 50 permutation rounds\n",
    "\n",
    "from mlxtend.evaluate import feature_importance_permutation\n",
    "forest = RandomForestClassifier(n_estimators=100,random_state=0)\n",
    "forest.fit(X_train, y_train)\n",
    "imp_features = feature_importance_permutation(predict_method=forest.predict, \n",
    "                                              X=X_test,\n",
    "                                              y=y_test,\n",
    "                                              metric='accuracy',\n",
    "                                              num_rounds=50, \n",
    "                                              seed=0)\n",
    "# then print the importance values\n",
    "imp_vals, _ = feature_importance_permutation(predict_method=forest.predict, \n",
    "                                             X=X_test,\n",
    "                                             y=y_test,\n",
    "                                             metric='accuracy',\n",
    "                                             num_rounds=1,\n",
    "                                             seed=1)\n",
    "\n",
    "imp_vals"
   ]
  },
  {
   "cell_type": "code",
   "execution_count": 35,
   "metadata": {},
   "outputs": [
    {
     "data": {
      "text/plain": [
       "array([ 1,  2,  3,  4,  5,  7,  8, 10,  6, 11,  0, 12,  9], dtype=int64)"
      ]
     },
     "execution_count": 35,
     "metadata": {},
     "output_type": "execute_result"
    }
   ],
   "source": [
    "\n",
    "np.argsort(imp_vals)"
   ]
  },
  {
   "cell_type": "code",
   "execution_count": 36,
   "metadata": {},
   "outputs": [],
   "source": [
    "# Which are the 3 most important features now? You can either write the feature indices below that\n",
    "# correspond to the most important features or write out the full column names (you can see the\n",
    "# column names in the pandas DataFrame in 5.1).\n",
    "\n",
    "# The most important features are columns 1, 2 and 3. "
   ]
  },
  {
   "cell_type": "code",
   "execution_count": 37,
   "metadata": {},
   "outputs": [],
   "source": [
    "# 1.5.3 [10 pts] 5.3 Creating your Own Feature Selection Transformer Class\n",
    "# EXECUTE BUT DO NOT EDIT THIS CELL\n",
    "from sklearn.base import BaseEstimator\n",
    "import numpy as np\n",
    "class ColumnSelector(BaseEstimator):\n",
    "    def __init__(self, cols=None):\n",
    "        self.cols = cols\n",
    "    def fit_transform(self, X, y=None):\n",
    "        return self.transform(X=X, y=y)\n",
    "    def transform(self, X, y=None):\n",
    "        feature_subset = X[:, self.cols]\n",
    "        if len(feature_subset.shape) == 1:\n",
    "            feature_subset = feature_subset[:, np.newaxis]\n",
    "        return feature_subset\n",
    "    def fit(self, X, y=None):\n",
    "        return self"
   ]
  },
  {
   "cell_type": "code",
   "execution_count": 38,
   "metadata": {},
   "outputs": [
    {
     "data": {
      "text/html": [
       "<div>\n",
       "<style scoped>\n",
       "    .dataframe tbody tr th:only-of-type {\n",
       "        vertical-align: middle;\n",
       "    }\n",
       "\n",
       "    .dataframe tbody tr th {\n",
       "        vertical-align: top;\n",
       "    }\n",
       "\n",
       "    .dataframe thead th {\n",
       "        text-align: right;\n",
       "    }\n",
       "</style>\n",
       "<table border=\"1\" class=\"dataframe\">\n",
       "  <thead>\n",
       "    <tr style=\"text-align: right;\">\n",
       "      <th></th>\n",
       "      <th>Class label</th>\n",
       "      <th>Alcohol</th>\n",
       "      <th>Malic acid</th>\n",
       "      <th>Ash</th>\n",
       "      <th>Alcalinity of ash</th>\n",
       "      <th>Magnesium</th>\n",
       "      <th>Total phenols</th>\n",
       "      <th>Flavanoids</th>\n",
       "      <th>Nonflavanoid phenols</th>\n",
       "      <th>Proanthocyanins</th>\n",
       "      <th>Color intensity</th>\n",
       "      <th>Hue</th>\n",
       "      <th>OD280/OD315 of diluted wines</th>\n",
       "      <th>Proline</th>\n",
       "    </tr>\n",
       "  </thead>\n",
       "  <tbody>\n",
       "    <tr>\n",
       "      <td>0</td>\n",
       "      <td>1</td>\n",
       "      <td>14.23</td>\n",
       "      <td>1.71</td>\n",
       "      <td>2.43</td>\n",
       "      <td>15.6</td>\n",
       "      <td>127</td>\n",
       "      <td>2.80</td>\n",
       "      <td>3.06</td>\n",
       "      <td>0.28</td>\n",
       "      <td>2.29</td>\n",
       "      <td>5.64</td>\n",
       "      <td>1.04</td>\n",
       "      <td>3.92</td>\n",
       "      <td>1065</td>\n",
       "    </tr>\n",
       "    <tr>\n",
       "      <td>1</td>\n",
       "      <td>1</td>\n",
       "      <td>13.20</td>\n",
       "      <td>1.78</td>\n",
       "      <td>2.14</td>\n",
       "      <td>11.2</td>\n",
       "      <td>100</td>\n",
       "      <td>2.65</td>\n",
       "      <td>2.76</td>\n",
       "      <td>0.26</td>\n",
       "      <td>1.28</td>\n",
       "      <td>4.38</td>\n",
       "      <td>1.05</td>\n",
       "      <td>3.40</td>\n",
       "      <td>1050</td>\n",
       "    </tr>\n",
       "    <tr>\n",
       "      <td>2</td>\n",
       "      <td>1</td>\n",
       "      <td>13.16</td>\n",
       "      <td>2.36</td>\n",
       "      <td>2.67</td>\n",
       "      <td>18.6</td>\n",
       "      <td>101</td>\n",
       "      <td>2.80</td>\n",
       "      <td>3.24</td>\n",
       "      <td>0.30</td>\n",
       "      <td>2.81</td>\n",
       "      <td>5.68</td>\n",
       "      <td>1.03</td>\n",
       "      <td>3.17</td>\n",
       "      <td>1185</td>\n",
       "    </tr>\n",
       "    <tr>\n",
       "      <td>3</td>\n",
       "      <td>1</td>\n",
       "      <td>14.37</td>\n",
       "      <td>1.95</td>\n",
       "      <td>2.50</td>\n",
       "      <td>16.8</td>\n",
       "      <td>113</td>\n",
       "      <td>3.85</td>\n",
       "      <td>3.49</td>\n",
       "      <td>0.24</td>\n",
       "      <td>2.18</td>\n",
       "      <td>7.80</td>\n",
       "      <td>0.86</td>\n",
       "      <td>3.45</td>\n",
       "      <td>1480</td>\n",
       "    </tr>\n",
       "    <tr>\n",
       "      <td>4</td>\n",
       "      <td>1</td>\n",
       "      <td>13.24</td>\n",
       "      <td>2.59</td>\n",
       "      <td>2.87</td>\n",
       "      <td>21.0</td>\n",
       "      <td>118</td>\n",
       "      <td>2.80</td>\n",
       "      <td>2.69</td>\n",
       "      <td>0.39</td>\n",
       "      <td>1.82</td>\n",
       "      <td>4.32</td>\n",
       "      <td>1.04</td>\n",
       "      <td>2.93</td>\n",
       "      <td>735</td>\n",
       "    </tr>\n",
       "  </tbody>\n",
       "</table>\n",
       "</div>"
      ],
      "text/plain": [
       "   Class label  Alcohol  Malic acid   Ash  Alcalinity of ash  Magnesium  \\\n",
       "0            1    14.23        1.71  2.43               15.6        127   \n",
       "1            1    13.20        1.78  2.14               11.2        100   \n",
       "2            1    13.16        2.36  2.67               18.6        101   \n",
       "3            1    14.37        1.95  2.50               16.8        113   \n",
       "4            1    13.24        2.59  2.87               21.0        118   \n",
       "\n",
       "   Total phenols  Flavanoids  Nonflavanoid phenols  Proanthocyanins  \\\n",
       "0           2.80        3.06                  0.28             2.29   \n",
       "1           2.65        2.76                  0.26             1.28   \n",
       "2           2.80        3.24                  0.30             2.81   \n",
       "3           3.85        3.49                  0.24             2.18   \n",
       "4           2.80        2.69                  0.39             1.82   \n",
       "\n",
       "   Color intensity   Hue  OD280/OD315 of diluted wines  Proline  \n",
       "0             5.64  1.04                          3.92     1065  \n",
       "1             4.38  1.05                          3.40     1050  \n",
       "2             5.68  1.03                          3.17     1185  \n",
       "3             7.80  0.86                          3.45     1480  \n",
       "4             4.32  1.04                          2.93      735  "
      ]
     },
     "execution_count": 38,
     "metadata": {},
     "output_type": "execute_result"
    }
   ],
   "source": [
    "import pandas as pd\n",
    "df_wine = pd.read_csv('wine.data',header=None)\n",
    "df_wine.columns = ['Class label', 'Alcohol', 'Malic acid', 'Ash',\n",
    "                    'Alcalinity of ash', 'Magnesium', 'Total phenols',\n",
    "                    'Flavanoids', 'Nonflavanoid phenols', 'Proanthocyanins',\n",
    "                    'Color intensity', 'Hue',\n",
    "                    'OD280/OD315 of diluted wines', 'Proline']\n",
    "df_wine.head()"
   ]
  },
  {
   "cell_type": "code",
   "execution_count": 39,
   "metadata": {},
   "outputs": [],
   "source": [
    "from sklearn.model_selection import train_test_split\n",
    "X, y = df_wine.iloc[:, 1:].values, df_wine.iloc[:, 0].values\n",
    "X_train, X_test, y_train, y_test = train_test_split(X,\n",
    "                                                    y,\n",
    "                                                    test_size=0.3,\n",
    "                                                    stratify=y,random_state=0)"
   ]
  },
  {
   "cell_type": "code",
   "execution_count": 40,
   "metadata": {},
   "outputs": [
    {
     "name": "stdout",
     "output_type": "stream",
     "text": [
      "Original feature set size: (124, 13)\n",
      "Selected feature set size: (124, 4)\n"
     ]
    }
   ],
   "source": [
    "col_sele = ColumnSelector(cols=[0, 5, 8, 11])\n",
    "reduced_subset = col_sele.transform(X_train)\n",
    "print('Original feature set size:', X_train.shape)\n",
    "print('Selected feature set size:', reduced_subset.shape)\n"
   ]
  },
  {
   "cell_type": "code",
   "execution_count": 41,
   "metadata": {},
   "outputs": [],
   "source": [
    "# Your task now is to use the feature_importances_ attribute from a fitted random forest model\n",
    "# inside a custom feature selector. Using this feature selector, you should be able to select features\n",
    "# as follows:\n",
    "    # forest = RandomForestClassifier(n_estimators=100, random_state=123)\n",
    "    # selector = ImportanceSelector(num_features=3, random_forest_estimator=forest)\n",
    "    # selector.fit(X_train, y_train)\n",
    "    # reduced_train_features = selector.transform(X_train, y_train)\n",
    "# • If num_features=3 as shown above, this means that we are interested to select the top 3 most\n",
    "# important features from a dataset based on the random forest feature importance values.\n",
    "# • Actually, while it might be more interesting to implement a feature selctor based on the\n",
    "# column-drop performance (which would then be somewhat related to sequential feature selection), we use the feature importance values from a RandomForest’s feature_importances_\n",
    "# attribute for simplicity here, to allow you to implement this method in case your\n",
    "# feature_importance_dropcolumn function does not work correctly."
   ]
  },
  {
   "cell_type": "code",
   "execution_count": 42,
   "metadata": {},
   "outputs": [],
   "source": [
    "from sklearn.base import BaseEstimator\n",
    "import numpy as np\n",
    "class ImportanceSelector(BaseEstimator):\n",
    "    def __init__(self, num_features, random_forest_estimator):\n",
    "        self.num_features = num_features\n",
    "        self.forest = random_forest_estimator\n",
    "        \n",
    "    def transform(self, X, y=None):\n",
    "        # Feature by increasing feature importance:\n",
    "        features_by_importance = forest.feature_importances_\n",
    "        \n",
    "        top_k_feature_indices = np.argsort(features_by_importance)\n",
    "        feature_subset = X[:, top_k_feature_indices]\n",
    "        if len(feature_subset.shape) == 1:\n",
    "            feature_subset = feature_subset[:, np.newaxis]\n",
    "        return feature_subset\n",
    "    \n",
    "    def fit(self, X, y=None):\n",
    "        self.forest.fit(X, y)\n",
    "        return self"
   ]
  },
  {
   "cell_type": "code",
   "execution_count": 43,
   "metadata": {},
   "outputs": [
    {
     "name": "stdout",
     "output_type": "stream",
     "text": [
      "Original feature set size: (124, 13)\n",
      "Selected feature set size: (124, 13)\n",
      "First 5 rows:\n",
      " [[2.350e+00 4.700e-01 2.000e+01 1.020e+00 4.950e+00 9.200e+01 9.100e-01\n",
      "  2.000e+00 1.362e+01 2.050e+00 4.400e+00 8.000e-01 5.500e+02]\n",
      " [2.700e+00 5.000e-01 1.950e+01 1.350e+00 1.530e+00 1.320e+02 1.250e+00\n",
      "  2.950e+00 1.376e+01 3.000e+00 5.400e+00 2.740e+00 1.235e+03]\n",
      " [2.700e+00 2.900e-01 2.250e+01 2.380e+00 1.500e+00 1.010e+02 1.190e+00\n",
      "  3.000e+00 1.373e+01 2.710e+00 5.700e+00 3.250e+00 1.285e+03]\n",
      " [2.650e+00 2.900e-01 1.900e+01 1.540e+00 1.800e+00 1.100e+02 1.100e+00\n",
      "  2.350e+00 1.351e+01 2.870e+00 4.200e+00 2.530e+00 1.095e+03]\n",
      " [2.200e+00 6.300e-01 1.850e+01 9.400e-01 2.460e+00 9.400e+01 7.300e-01\n",
      "  1.620e+00 1.260e+01 1.580e+00 7.100e+00 6.600e-01 6.950e+02]]\n"
     ]
    }
   ],
   "source": [
    "# Now, use the ImportanceSelector to select the 3 most important features in the dataset:\n",
    "from sklearn.ensemble import RandomForestClassifier\n",
    "forest = RandomForestClassifier(n_estimators=100, random_state=123)\n",
    "selector = ImportanceSelector(num_features=3, random_forest_estimator=forest)\n",
    "selector.fit(X_train, y_train)\n",
    "reduced_train_features = selector.transform(X_train, y_train)\n",
    "print('Original feature set size:', X_train.shape)\n",
    "print('Selected feature set size:', reduced_train_features.shape)\n",
    "print('First 5 rows:\\n', reduced_train_features[:5])"
   ]
  }
 ],
 "metadata": {
  "kernelspec": {
   "display_name": "Python 3",
   "language": "python",
   "name": "python3"
  },
  "language_info": {
   "codemirror_mode": {
    "name": "ipython",
    "version": 3
   },
   "file_extension": ".py",
   "mimetype": "text/x-python",
   "name": "python",
   "nbconvert_exporter": "python",
   "pygments_lexer": "ipython3",
   "version": "3.7.4"
  }
 },
 "nbformat": 4,
 "nbformat_minor": 2
}
